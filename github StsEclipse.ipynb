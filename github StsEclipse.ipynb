{
 "cells": [
  {
   "cell_type": "markdown",
   "id": "dd705961",
   "metadata": {},
   "source": [
    "# STS Github\n",
    "\n",
    "\n",
    "    1. Criar Uma Nova Pasta\n",
    "\n",
    "    2. inciar o workspace no endereço\n",
    "    \n",
    "    3. Pesquisar \"Git Repositories\"\n",
    "    \n",
    "   \n",
    "   ### GitHub\n",
    "    \n",
    "    4. Acessar o github\n",
    "    \n",
    "    5. Requisito: Criar TOKEN.\n",
    "    5.1 - Acesse seu perfil.\n",
    "    5.2 - Settings\n",
    "    5.3 - Developer Settings\n",
    "    5.4 - Personal acess tokens\n",
    "    5.5 - Generate new Token \n",
    "    5.6 - configurar as informações.\n",
    "    5.7 - Gerar token\n",
    "    5.8 - Salvar em um bloco de notas\n",
    "    \n",
    "\n",
    "    \n",
    "    \n",
    "\n",
    "    \n",
    "   ### Eclipse / STS\n",
    "       \n",
    "    6. Repositorio git \"https://github.com/qwasolucoes/foto-analise.git\"\n",
    "   \n",
    "    7. Informar Usuario e TOKEN como senha.\n",
    "    \n",
    "    8. import MAVEN\n",
    "    \n",
    "    9. atualizamos algo\n",
    "    \n",
    "    10. New Branch\n",
    "    \n",
    "    11. git commit\n",
    "    \n",
    "    \n",
    "    \n",
    "    \n",
    "    \n",
    "   ###  Referências\n",
    "        \n",
    "        Criação do token: https://docs.github.com/en/enterprise-server@3.3/authentication/keeping-your-account-and-data-secure/creating-a-personal-access-token"
   ]
  },
  {
   "cell_type": "code",
   "execution_count": null,
   "id": "df474ed3",
   "metadata": {},
   "outputs": [],
   "source": []
  }
 ],
 "metadata": {
  "kernelspec": {
   "display_name": "Java",
   "language": "java",
   "name": "java"
  },
  "language_info": {
   "codemirror_mode": "java",
   "file_extension": ".jshell",
   "mimetype": "text/x-java-source",
   "name": "Java",
   "pygments_lexer": "java",
   "version": "11.0.15+8-LTS-149"
  }
 },
 "nbformat": 4,
 "nbformat_minor": 5
}
